{
 "cells": [
  {
   "cell_type": "markdown",
   "metadata": {},
   "source": [
    "$ \\begin{equation}\\delta U= \\delta W + \\delta Q \\qquad  \\label{clever}\\end{equation}$     En una columna atmosférica vale la primera Ley de la Termodinámica \n",
    " \n",
    "$\\delta Q= T \\ \\delta S \\qquad$     Se considera que los procesos atmosféricos estudiados son reversibles\n",
    "\n",
    "$\\delta U= T \\ \\delta S - p \\ \\delta V \\qquad$    El trabajo es el realizado sobre el sistema\n",
    "\n",
    "$H= U + p V  \\qquad$    Incorporando la Entalpía del sistema derivando y reemplazando nos queda\n",
    "\n",
    "$\\delta H=  T \\delta S +  V \\delta p \\qquad$\n",
    "\n",
    "Ahora consideraremos que los gases atemosféricos son gases ideales y que nuestras aproximaciones son por unidad de masa\n",
    "\n",
    "$ pV = n R T  \\qquad  ó   \\qquad p\\ V_{m} =  R T \\qquad y \\qquad U = c_{v} \\  T \\qquad$     para un mol de aire \n",
    "\n",
    "$ p =  R_{a} T \\ \\rho$ donde Ra es la constante de los gases para un mol de aire atmosférico\n",
    "\n",
    "\n"
   ]
  },
  {
   "cell_type": "markdown",
   "metadata": {},
   "source": [
    "$H= U + p V  \\qquad$ \n",
    "\n",
    "$H= T c_{p}  \\qquad$ \n",
    "\n",
    "$\\delta H=  T \\delta S +  V \\delta p \\qquad$\n",
    "\n",
    "$ c_{p}  \\ \\delta T = T  \\delta S +  \\frac{Ra \\ T}{p} \\delta p \\qquad$ \n",
    "\n",
    "$ \\delta S =  \\frac{c_{p} \\  \\delta T}{T} - Ra \\ \\frac{c_{p} \\delta p}{p}= c_{p} \\ \\delta\\  (ln T) - Ra \\  \\delta \\ (ln p)$\n",
    "\n",
    "Para un proceso adiabático reversible, como el ascenso de una parcela de aire,  S es constante\n",
    "\n",
    "\n",
    "$ c_{p} \\ \\delta\\  (ln T) = Ra \\  \\delta \\ (ln p) $\n",
    "\n",
    "Considero un proceso que parte de T , P y se comprime adiabaticamente hasta $p_{0}$, y llega a una temperatura $\\theta$\n",
    "\n",
    "$c_{p} \\  ln (\\frac{\\theta}{T}) = Ra \\ ln (\\frac{p}{p_{0}})$\n",
    "\n",
    "$  ln (\\frac{\\theta}{T}) =  \\ ln (\\frac{p}{p_{0}})^{\\frac{Ra}{c_{p}}}    \\qquad \\theta = T {(\\frac{p}{p_{0}})}^\\gamma$ \n",
    "\n",
    "$\\qquad  \\theta$ es un invariante en el proceso y representa la temperatura que alcanza la columna al ser llevada  desde 1000mb hasta la presión p\n",
    "\n",
    "$\\qquad  \\theta$ es la Temperatura Potencial"
   ]
  },
  {
   "cell_type": "markdown",
   "metadata": {},
   "source": [
    "Para un proceso adiabático reversible, como el ascenso de una parcela de aire,  S es constante es decir $ \\qquad \\delta S = 0$\n",
    "\n",
    "$ 0=  \\frac{c_{p} \\  \\delta T}{T} - Ra \\ \\frac{c_{p} \\delta p}{p}$ \n",
    "\n",
    "$ 0=  \\frac{c_{p} \\  \\delta T}{T \\ \\delta Z})_{parcela} - \\frac{Ra\\ \\delta p}{p \\ \\delta Z})_{parcela}$ \n",
    "\n",
    "\n",
    "$ - \\frac{ \\delta T}{\\delta Z})_{parcela} = \\frac{Ra\\ T \\ \\delta p}{c_{p} p \\ \\delta Z})_{parcela} = \\frac {g}{c_{p}} $\n",
    "\n",
    "$ \\Gamma_{a} = - \\frac{ \\delta T}{\\delta Z})_{parcela} = \\frac {g}{c_{p}}$ Es el gradiente adiabàtico seco y nos da la pendiente del cambio de temperatura con la altura para un proceso adiabàtico seco, vale aproximadamente 9,8 K/km\n",
    "\n"
   ]
  },
  {
   "cell_type": "code",
   "execution_count": null,
   "metadata": {},
   "outputs": [],
   "source": []
  }
 ],
 "metadata": {
  "kernelspec": {
   "display_name": "Python 3",
   "language": "python",
   "name": "python3"
  },
  "language_info": {
   "codemirror_mode": {
    "name": "ipython",
    "version": 3
   },
   "file_extension": ".py",
   "mimetype": "text/x-python",
   "name": "python",
   "nbconvert_exporter": "python",
   "pygments_lexer": "ipython3",
   "version": "3.7.3"
  }
 },
 "nbformat": 4,
 "nbformat_minor": 4
}
