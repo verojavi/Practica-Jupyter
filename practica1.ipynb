{
 "cells": [
  {
   "cell_type": "code",
   "execution_count": 3,
   "metadata": {},
   "outputs": [],
   "source": [
    "import pandas as pd"
   ]
  },
  {
   "cell_type": "code",
   "execution_count": 4,
   "metadata": {},
   "outputs": [],
   "source": [
    "from matplotlib import pyplot as plt"
   ]
  },
  {
   "cell_type": "code",
   "execution_count": 5,
   "metadata": {},
   "outputs": [],
   "source": [
    "datos = pd.read_excel('LAQUIACA-2019-JUNIO.xlsx')"
   ]
  },
  {
   "cell_type": "code",
   "execution_count": 6,
   "metadata": {},
   "outputs": [
    {
     "data": {
      "text/html": [
       "<div>\n",
       "<style scoped>\n",
       "    .dataframe tbody tr th:only-of-type {\n",
       "        vertical-align: middle;\n",
       "    }\n",
       "\n",
       "    .dataframe tbody tr th {\n",
       "        vertical-align: top;\n",
       "    }\n",
       "\n",
       "    .dataframe thead th {\n",
       "        text-align: right;\n",
       "    }\n",
       "</style>\n",
       "<table border=\"1\" class=\"dataframe\">\n",
       "  <thead>\n",
       "    <tr style=\"text-align: right;\">\n",
       "      <th></th>\n",
       "      <th>MESA</th>\n",
       "      <th>ORDEN</th>\n",
       "      <th>ESCUELA</th>\n",
       "      <th>TIPO DE EJEMPLAR</th>\n",
       "      <th>MATRICULA</th>\n",
       "      <th>APELLIDO</th>\n",
       "      <th>NOMBRE</th>\n",
       "      <th>CLASE</th>\n",
       "      <th>GENERO</th>\n",
       "      <th>DOMICILIO</th>\n",
       "      <th>SECCION</th>\n",
       "      <th>CIRCUITO</th>\n",
       "      <th>MESA.1</th>\n",
       "      <th>ORDEN_MESA</th>\n",
       "      <th>ESCUELA.1</th>\n",
       "      <th>TX_SECC_NUMERO</th>\n",
       "      <th>TX_CIRC_NUMERO</th>\n",
       "    </tr>\n",
       "  </thead>\n",
       "  <tbody>\n",
       "    <tr>\n",
       "      <th>0</th>\n",
       "      <td>1620</td>\n",
       "      <td>1</td>\n",
       "      <td>EET</td>\n",
       "      <td>DNI-EA</td>\n",
       "      <td>8000677</td>\n",
       "      <td>PRIETO</td>\n",
       "      <td>RAUL MANUEL</td>\n",
       "      <td>1948</td>\n",
       "      <td>M</td>\n",
       "      <td>AV. LAMADRID 344</td>\n",
       "      <td>15 - YAVI</td>\n",
       "      <td>118   - LA QUIACA</td>\n",
       "      <td>1620</td>\n",
       "      <td>1</td>\n",
       "      <td>EET</td>\n",
       "      <td>15</td>\n",
       "      <td>118</td>\n",
       "    </tr>\n",
       "    <tr>\n",
       "      <th>1</th>\n",
       "      <td>1620</td>\n",
       "      <td>2</td>\n",
       "      <td>EET</td>\n",
       "      <td>DNI</td>\n",
       "      <td>28314207</td>\n",
       "      <td>ABALO</td>\n",
       "      <td>BELEN ZULEMA</td>\n",
       "      <td>1980</td>\n",
       "      <td>F</td>\n",
       "      <td>BELGRANO 797 S/N</td>\n",
       "      <td>15 - YAVI</td>\n",
       "      <td>118   - LA QUIACA</td>\n",
       "      <td>1620</td>\n",
       "      <td>2</td>\n",
       "      <td>EET</td>\n",
       "      <td>15</td>\n",
       "      <td>118</td>\n",
       "    </tr>\n",
       "    <tr>\n",
       "      <th>2</th>\n",
       "      <td>1620</td>\n",
       "      <td>3</td>\n",
       "      <td>EET</td>\n",
       "      <td>DNI-EA</td>\n",
       "      <td>33844704</td>\n",
       "      <td>ABALO</td>\n",
       "      <td>BETSABE AMERICA</td>\n",
       "      <td>1988</td>\n",
       "      <td>F</td>\n",
       "      <td>BELGRANO 797</td>\n",
       "      <td>15 - YAVI</td>\n",
       "      <td>118   - LA QUIACA</td>\n",
       "      <td>1620</td>\n",
       "      <td>3</td>\n",
       "      <td>EET</td>\n",
       "      <td>15</td>\n",
       "      <td>118</td>\n",
       "    </tr>\n",
       "    <tr>\n",
       "      <th>3</th>\n",
       "      <td>1620</td>\n",
       "      <td>4</td>\n",
       "      <td>EET</td>\n",
       "      <td>DNI-EA</td>\n",
       "      <td>8012954</td>\n",
       "      <td>ABALO</td>\n",
       "      <td>LUIS ALBERTO</td>\n",
       "      <td>1950</td>\n",
       "      <td>M</td>\n",
       "      <td>BELGRANO 797</td>\n",
       "      <td>15 - YAVI</td>\n",
       "      <td>118   - LA QUIACA</td>\n",
       "      <td>1620</td>\n",
       "      <td>4</td>\n",
       "      <td>EET</td>\n",
       "      <td>15</td>\n",
       "      <td>118</td>\n",
       "    </tr>\n",
       "    <tr>\n",
       "      <th>4</th>\n",
       "      <td>1620</td>\n",
       "      <td>5</td>\n",
       "      <td>EET</td>\n",
       "      <td>DNI-EB</td>\n",
       "      <td>28727558</td>\n",
       "      <td>ABALO</td>\n",
       "      <td>LUIS ENRIQUE</td>\n",
       "      <td>1982</td>\n",
       "      <td>M</td>\n",
       "      <td>AV. MARIA MAIDANA ESQ. PJE. LIBERTAD S/N</td>\n",
       "      <td>15 - YAVI</td>\n",
       "      <td>118   - LA QUIACA</td>\n",
       "      <td>1620</td>\n",
       "      <td>5</td>\n",
       "      <td>EET</td>\n",
       "      <td>15</td>\n",
       "      <td>118</td>\n",
       "    </tr>\n",
       "    <tr>\n",
       "      <th>...</th>\n",
       "      <td>...</td>\n",
       "      <td>...</td>\n",
       "      <td>...</td>\n",
       "      <td>...</td>\n",
       "      <td>...</td>\n",
       "      <td>...</td>\n",
       "      <td>...</td>\n",
       "      <td>...</td>\n",
       "      <td>...</td>\n",
       "      <td>...</td>\n",
       "      <td>...</td>\n",
       "      <td>...</td>\n",
       "      <td>...</td>\n",
       "      <td>...</td>\n",
       "      <td>...</td>\n",
       "      <td>...</td>\n",
       "      <td>...</td>\n",
       "    </tr>\n",
       "    <tr>\n",
       "      <th>14299</th>\n",
       "      <td>1662</td>\n",
       "      <td>328</td>\n",
       "      <td>ESCUELA FRONTERA</td>\n",
       "      <td>DNI-EA</td>\n",
       "      <td>41401783</td>\n",
       "      <td>ZUTARA</td>\n",
       "      <td>CELESTE NOEMI</td>\n",
       "      <td>1998</td>\n",
       "      <td>F</td>\n",
       "      <td>SAN CAYETANO-PAT.ARGENTIN 287</td>\n",
       "      <td>15 - YAVI</td>\n",
       "      <td>118   - LA QUIACA</td>\n",
       "      <td>1662</td>\n",
       "      <td>328</td>\n",
       "      <td>ESCUELA FRONTERA</td>\n",
       "      <td>15</td>\n",
       "      <td>118</td>\n",
       "    </tr>\n",
       "    <tr>\n",
       "      <th>14300</th>\n",
       "      <td>1662</td>\n",
       "      <td>329</td>\n",
       "      <td>ESCUELA FRONTERA</td>\n",
       "      <td>DNI-EA</td>\n",
       "      <td>39401859</td>\n",
       "      <td>ZUTARA</td>\n",
       "      <td>CRISTIAN ARIEL</td>\n",
       "      <td>1996</td>\n",
       "      <td>M</td>\n",
       "      <td>ARGENTINAS 287</td>\n",
       "      <td>15 - YAVI</td>\n",
       "      <td>118   - LA QUIACA</td>\n",
       "      <td>1662</td>\n",
       "      <td>329</td>\n",
       "      <td>ESCUELA FRONTERA</td>\n",
       "      <td>15</td>\n",
       "      <td>118</td>\n",
       "    </tr>\n",
       "    <tr>\n",
       "      <th>14301</th>\n",
       "      <td>1662</td>\n",
       "      <td>330</td>\n",
       "      <td>ESCUELA FRONTERA</td>\n",
       "      <td>DNI-ED</td>\n",
       "      <td>40765421</td>\n",
       "      <td>ZUTARA</td>\n",
       "      <td>DANTE SALVADOR</td>\n",
       "      <td>1997</td>\n",
       "      <td>M</td>\n",
       "      <td>MINEROS DEL AGUILAR 561</td>\n",
       "      <td>15 - YAVI</td>\n",
       "      <td>118   - LA QUIACA</td>\n",
       "      <td>1662</td>\n",
       "      <td>330</td>\n",
       "      <td>ESCUELA FRONTERA</td>\n",
       "      <td>15</td>\n",
       "      <td>118</td>\n",
       "    </tr>\n",
       "    <tr>\n",
       "      <th>14302</th>\n",
       "      <td>1662</td>\n",
       "      <td>331</td>\n",
       "      <td>ESCUELA FRONTERA</td>\n",
       "      <td>DNI-EC</td>\n",
       "      <td>12231832</td>\n",
       "      <td>ZUTARA</td>\n",
       "      <td>DOROTEA</td>\n",
       "      <td>1956</td>\n",
       "      <td>F</td>\n",
       "      <td>TAMBORCITO DE TACUARI 616</td>\n",
       "      <td>15 - YAVI</td>\n",
       "      <td>118   - LA QUIACA</td>\n",
       "      <td>1662</td>\n",
       "      <td>331</td>\n",
       "      <td>ESCUELA FRONTERA</td>\n",
       "      <td>15</td>\n",
       "      <td>118</td>\n",
       "    </tr>\n",
       "    <tr>\n",
       "      <th>14303</th>\n",
       "      <td>1662</td>\n",
       "      <td>332</td>\n",
       "      <td>ESCUELA FRONTERA</td>\n",
       "      <td>DNI-EC</td>\n",
       "      <td>21319985</td>\n",
       "      <td>ZUTARA</td>\n",
       "      <td>HILARIO</td>\n",
       "      <td>1972</td>\n",
       "      <td>M</td>\n",
       "      <td>S.CAYETANO-P.ARGENTINAS 287</td>\n",
       "      <td>15 - YAVI</td>\n",
       "      <td>118   - LA QUIACA</td>\n",
       "      <td>1662</td>\n",
       "      <td>332</td>\n",
       "      <td>ESCUELA FRONTERA</td>\n",
       "      <td>15</td>\n",
       "      <td>118</td>\n",
       "    </tr>\n",
       "  </tbody>\n",
       "</table>\n",
       "<p>14304 rows × 17 columns</p>\n",
       "</div>"
      ],
      "text/plain": [
       "       MESA  ORDEN           ESCUELA TIPO DE EJEMPLAR  MATRICULA APELLIDO  \\\n",
       "0      1620      1               EET           DNI-EA    8000677   PRIETO   \n",
       "1      1620      2               EET              DNI   28314207    ABALO   \n",
       "2      1620      3               EET           DNI-EA   33844704    ABALO   \n",
       "3      1620      4               EET           DNI-EA    8012954    ABALO   \n",
       "4      1620      5               EET           DNI-EB   28727558    ABALO   \n",
       "...     ...    ...               ...              ...        ...      ...   \n",
       "14299  1662    328  ESCUELA FRONTERA           DNI-EA   41401783   ZUTARA   \n",
       "14300  1662    329  ESCUELA FRONTERA           DNI-EA   39401859   ZUTARA   \n",
       "14301  1662    330  ESCUELA FRONTERA           DNI-ED   40765421   ZUTARA   \n",
       "14302  1662    331  ESCUELA FRONTERA           DNI-EC   12231832   ZUTARA   \n",
       "14303  1662    332  ESCUELA FRONTERA           DNI-EC   21319985   ZUTARA   \n",
       "\n",
       "                NOMBRE  CLASE GENERO  \\\n",
       "0          RAUL MANUEL   1948      M   \n",
       "1         BELEN ZULEMA   1980      F   \n",
       "2      BETSABE AMERICA   1988      F   \n",
       "3         LUIS ALBERTO   1950      M   \n",
       "4         LUIS ENRIQUE   1982      M   \n",
       "...                ...    ...    ...   \n",
       "14299    CELESTE NOEMI   1998      F   \n",
       "14300   CRISTIAN ARIEL   1996      M   \n",
       "14301   DANTE SALVADOR   1997      M   \n",
       "14302          DOROTEA   1956      F   \n",
       "14303          HILARIO   1972      M   \n",
       "\n",
       "                                      DOMICILIO    SECCION           CIRCUITO  \\\n",
       "0                              AV. LAMADRID 344  15 - YAVI  118   - LA QUIACA   \n",
       "1                              BELGRANO 797 S/N  15 - YAVI  118   - LA QUIACA   \n",
       "2                                  BELGRANO 797  15 - YAVI  118   - LA QUIACA   \n",
       "3                                  BELGRANO 797  15 - YAVI  118   - LA QUIACA   \n",
       "4      AV. MARIA MAIDANA ESQ. PJE. LIBERTAD S/N  15 - YAVI  118   - LA QUIACA   \n",
       "...                                         ...        ...                ...   \n",
       "14299             SAN CAYETANO-PAT.ARGENTIN 287  15 - YAVI  118   - LA QUIACA   \n",
       "14300                            ARGENTINAS 287  15 - YAVI  118   - LA QUIACA   \n",
       "14301                   MINEROS DEL AGUILAR 561  15 - YAVI  118   - LA QUIACA   \n",
       "14302                 TAMBORCITO DE TACUARI 616  15 - YAVI  118   - LA QUIACA   \n",
       "14303               S.CAYETANO-P.ARGENTINAS 287  15 - YAVI  118   - LA QUIACA   \n",
       "\n",
       "       MESA.1  ORDEN_MESA         ESCUELA.1  TX_SECC_NUMERO  TX_CIRC_NUMERO  \n",
       "0        1620           1               EET              15             118  \n",
       "1        1620           2               EET              15             118  \n",
       "2        1620           3               EET              15             118  \n",
       "3        1620           4               EET              15             118  \n",
       "4        1620           5               EET              15             118  \n",
       "...       ...         ...               ...             ...             ...  \n",
       "14299    1662         328  ESCUELA FRONTERA              15             118  \n",
       "14300    1662         329  ESCUELA FRONTERA              15             118  \n",
       "14301    1662         330  ESCUELA FRONTERA              15             118  \n",
       "14302    1662         331  ESCUELA FRONTERA              15             118  \n",
       "14303    1662         332  ESCUELA FRONTERA              15             118  \n",
       "\n",
       "[14304 rows x 17 columns]"
      ]
     },
     "execution_count": 6,
     "metadata": {},
     "output_type": "execute_result"
    }
   ],
   "source": [
    "datos"
   ]
  },
  {
   "cell_type": "code",
   "execution_count": 7,
   "metadata": {},
   "outputs": [
    {
     "name": "stdout",
     "output_type": "stream",
     "text": [
      "['MESA', 'ORDEN', 'ESCUELA', 'TIPO DE EJEMPLAR', 'MATRICULA', 'APELLIDO', 'NOMBRE', 'CLASE', 'GENERO', 'DOMICILIO', 'SECCION', 'CIRCUITO', 'MESA.1', 'ORDEN_MESA', 'ESCUELA.1', 'TX_SECC_NUMERO', 'TX_CIRC_NUMERO']\n"
     ]
    }
   ],
   "source": [
    "print(list(datos.columns.values))\n",
    "\n"
   ]
  },
  {
   "cell_type": "code",
   "execution_count": 8,
   "metadata": {},
   "outputs": [
    {
     "data": {
      "text/plain": [
       "0        1620\n",
       "1        1620\n",
       "2        1620\n",
       "3        1620\n",
       "4        1620\n",
       "         ... \n",
       "14299    1662\n",
       "14300    1662\n",
       "14301    1662\n",
       "14302    1662\n",
       "14303    1662\n",
       "Name: MESA, Length: 14304, dtype: int64"
      ]
     },
     "execution_count": 8,
     "metadata": {},
     "output_type": "execute_result"
    }
   ],
   "source": [
    "datos['MESA']"
   ]
  },
  {
   "cell_type": "code",
   "execution_count": 9,
   "metadata": {},
   "outputs": [],
   "source": [
    "CONSULTA = pd.value_counts(datos['ESCUELA']) #Digamos que Categorizo... o Cuento las veces que un valor se repite en una columna."
   ]
  },
  {
   "cell_type": "code",
   "execution_count": 10,
   "metadata": {},
   "outputs": [
    {
     "data": {
      "text/plain": [
       "NORMAL SECUNDARIA    4662\n",
       "EET                  3996\n",
       "NORMAL PRIMARIA      3322\n",
       "ESCUELA FRONTERA     2324\n",
       "Name: ESCUELA, dtype: int64"
      ]
     },
     "execution_count": 10,
     "metadata": {},
     "output_type": "execute_result"
    }
   ],
   "source": [
    "CONSULTA"
   ]
  },
  {
   "cell_type": "code",
   "execution_count": 11,
   "metadata": {},
   "outputs": [],
   "source": [
    "CONSULTA = pd.value_counts(datos['TIPO DE EJEMPLAR']) #Digamos que Categorizo... o Cuento las veces que un valor se repite en una columna."
   ]
  },
  {
   "cell_type": "code",
   "execution_count": 12,
   "metadata": {},
   "outputs": [
    {
     "data": {
      "text/plain": [
       "DNI-EA       5700\n",
       "DNI-EB       2778\n",
       "DNI          2231\n",
       "DNI-EC       1062\n",
       "DNID          834\n",
       "NO CONSTA     787\n",
       "DNI-ED        328\n",
       "DNIT          299\n",
       "DNIC           89\n",
       "DNI-EE         87\n",
       "DNI-EF         28\n",
       "LD             26\n",
       "DNI5           23\n",
       "LC             11\n",
       "DNI-EG          8\n",
       "DNI7            5\n",
       "DNI6            3\n",
       "DNI-EH          2\n",
       "LT              1\n",
       "DNI-AB          1\n",
       "DNI-EM          1\n",
       "Name: TIPO DE EJEMPLAR, dtype: int64"
      ]
     },
     "execution_count": 12,
     "metadata": {},
     "output_type": "execute_result"
    }
   ],
   "source": [
    "CONSULTA"
   ]
  },
  {
   "cell_type": "code",
   "execution_count": 13,
   "metadata": {},
   "outputs": [
    {
     "data": {
      "text/plain": [
       "21"
      ]
     },
     "execution_count": 13,
     "metadata": {},
     "output_type": "execute_result"
    }
   ],
   "source": [
    "len(CONSULTA)"
   ]
  },
  {
   "cell_type": "code",
   "execution_count": 14,
   "metadata": {},
   "outputs": [
    {
     "data": {
      "image/png": "[encoded data removed]",
      "text/plain": [
       "<Figure size 576x576 with 1 Axes>"
      ]
     },
     "metadata": {},
     "output_type": "display_data"
    }
   ],
   "source": [
    "plot_torta = datos['ESCUELA'].value_counts().plot(kind='pie', autopct='%.2f', figsize=(8, 8),\n",
    "                                            title='PORCENTAJE de VOTANTES por ESCUELAS')"
   ]
  },
  {
   "cell_type": "code",
   "execution_count": 15,
   "metadata": {},
   "outputs": [
    {
     "data": {
      "image/png": "[encoded data removed]",
      "text/plain": [
       "<Figure size 432x288 with 1 Axes>"
      ]
     },
     "metadata": {
      "needs_background": "light"
     },
     "output_type": "display_data"
    }
   ],
   "source": [
    "##---------------------------------------------------------------\n",
    "## GRAFICA MODO BARRAS HORIZONTALES por eso es: BARH\n",
    "plot_barras = datos['ESCUELA'].value_counts().plot(kind='barh', title='MESAS CANTIDAD de VOTANTES')"
   ]
  },
  {
   "cell_type": "code",
   "execution_count": 16,
   "metadata": {},
   "outputs": [
    {
     "data": {
      "image/png": "[encoded data removed]",
      "text/plain": [
       "<Figure size 432x288 with 1 Axes>"
      ]
     },
     "metadata": {
      "needs_background": "light"
     },
     "output_type": "display_data"
    }
   ],
   "source": [
    "plot_barras = datos['ESCUELA'].value_counts().plot(kind='bar', title='MESAS CANTIDAD de VOTANTES')"
   ]
  },
  {
   "cell_type": "code",
   "execution_count": null,
   "metadata": {},
   "outputs": [],
   "source": []
  }
 ],
 "metadata": {
  "kernelspec": {
   "display_name": "Python 3",
   "language": "python",
   "name": "python3"
  },
  "language_info": {
   "codemirror_mode": {
    "name": "ipython",
    "version": 3
   },
   "file_extension": ".py",
   "mimetype": "text/x-python",
   "name": "python",
   "nbconvert_exporter": "python",
   "pygments_lexer": "ipython3",
   "version": "3.7.3"
  }
 },
 "nbformat": 4,
 "nbformat_minor": 4
}
